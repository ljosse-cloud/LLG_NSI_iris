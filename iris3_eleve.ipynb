{
 "cells": [
  {
   "cell_type": "markdown",
   "metadata": {},
   "source": [
    "<table style=\"border:1px solid black\">\n",
    "    <tbody>\n",
    "    <tr>\n",
    "    <td style=\"text-align: center; vertical-align: middle; border:1px solid black;\"><h1>TP</h1></td>\n",
    "       <td><h2>4 h</h2></td>\n",
    "    <td style=\"text-align: center; vertical-align: middle; border:1px solid black;\"><h2>Représentation des données <br>\n",
    "       Langages et programmation <br> Algorithmique </h2></td>\n",
    "    <th rowspan=\"2\" style=\"text-align: center; vertical-align: middle; border:1px solid black; background-color:white;\"><img alt=\"logoLLG\" src=\"logoLLG.png\"></th>\n",
    "     </tr>\n",
    "     <tr>\n",
    "    <th colspan=\"2\" style=\"text-align: center; vertical-align: middle; border:1px solid black; background-color:white;\"><img alt=\"logoNSI\" src=\"logoNSI.png\"></th>\n",
    "    <td style=\"text-align: center; vertical-align: middle; border:1px solid black;\"><h2>Implémentation de l'algorithme des K-plus proches voisins\n",
    "       </h2></td>\n",
    "    </tr>\n",
    "    </tbody>\n",
    "</table>"
   ]
  },
  {
   "cell_type": "markdown",
   "metadata": {},
   "source": [
    "<p>L'objectif de ce TP est de mettre en évidence l’influence du paramètre k \n",
    "(nombre de voisins) dans l’algorithme des k plus proches voisins appliqué \n",
    "à notre activité.\n",
    "</p>"
   ]
  },
  {
   "cell_type": "code",
   "execution_count": null,
   "metadata": {},
   "outputs": [],
   "source": [
    "import matplotlib.pyplot as plt\n",
    "from math import sqrt\n",
    "\n",
    "global my_colors\n",
    "my_colors=['g','r','b']\n",
    "\n",
    "def charger_data():\n",
    "    data=[]\n",
    "    file=open(\"iris.csv\",\"r\")\n",
    "    file.readline() #extraire la première ligne\n",
    "    iris=file.read().strip().split('\\n')    #nettoyer et séparer les coordonnées des points\n",
    "    for i in range(len(iris)):  #former la liste de tuples\n",
    "        data.append(iris[i].split(\",\"))\n",
    "        data[i][0]=int(data[i][0])\n",
    "        data[i][1]=int(data[i][1])\n",
    "        data[i][2]=int(data[i][2])\n",
    "        data[i]=tuple(data[i])\n",
    "    return data\n",
    "\n",
    "def afficher(data): \n",
    "    plt.title(\"Classification des trois variétés d'iris\")\n",
    "    plt.xlabel(\"Longueur de la pétale (en mm)\")\n",
    "    plt.ylabel(\"Largeur de la pétale (en mm)\")\n",
    "    plt.grid(which = \"both\", linestyle = \"--\")\n",
    "    for i in range(len(data)):    \n",
    "        plt.scatter(data[i][0], data[i][1], color=my_colors[data[i][2]])\n",
    "\n",
    "def afficher_point(pt,lab):\n",
    "    plt.scatter(pt[0], pt[1], color=my_colors[lab])\n",
    "    plt.text(pt[0]-1, pt[1]-1, f\"({pt[0]},{pt[1]})\", fontsize=6)\n",
    "    txt=\"Variété : \"\n",
    "    if lab==0:\n",
    "        txt=txt+\"setosa\"\n",
    "    elif lab==1:\n",
    "        txt=txt+\"virginica\"\n",
    "    elif lab==2:\n",
    "        txt=txt+\"versicolor\"\n",
    "    else :\n",
    "        txt=txt+\"???\"\n",
    "    plt.text(30,1, txt, fontsize=12)\n",
    "\n",
    "def afficher_point_coul(pt,coul):\n",
    "    plt.scatter(pt[0], pt[1], color=coul)\n",
    "\n",
    "def distance(a, b):\n",
    "    d=0.0\n",
    "    for i in range(2):\n",
    "        d=d+(b[i] - a[i])**2\n",
    "    d=round(sqrt(d),2)\n",
    "    return d\n",
    "\n",
    "def listdist(data, o):\n",
    "    L_dist=[]\n",
    "    n=len(data)\n",
    "    for i in range(n):\n",
    "        L_dist.append([distance(o,data[i]),data[i][2]])\n",
    "    return L_dist\n",
    "\n",
    "def kppv(ld, k, o):\n",
    "    knn=[]\n",
    "    ld.sort()\n",
    "    for i in range(k):\n",
    "        knn.append(ld[i])\n",
    "    return knn\n",
    "\n",
    "def prediction(lk):\n",
    "    c0,c1,c2 = 0,0,0\n",
    "    for i in range(len(lk)):\n",
    "        if lk[i][1]==0:c0+=1\n",
    "        elif lk[i][1]==1:c1+=1\n",
    "        elif lk[i][1]==2:c2+=1\n",
    "    if c0<c2 and c1<c2:return 2\n",
    "    elif c0<c1 and c2<c1: return 1\n",
    "    elif c1<c0 and c2<c0: return 0\n",
    "    else: print(c0,\" \",c1,\" \",c2,\" nous ne pouvons pas prédire la variété de cet iris\")\n",
    "\n",
    "def kNN_classification(pt,k,Data):\n",
    "    ld=listdist(Data, pt)\n",
    "    lk=kppv(ld,k,pt)\n",
    "    ck=prediction(lk)\n",
    "    return ck\n"
   ]
  },
  {
   "cell_type": "markdown",
   "metadata": {},
   "source": [
    "<h1>Introduction</h1>\n",
    "<article>\n",
    "<p>\n",
    "   Dans les séquences précédentes vous avez effectué la lecture des \n",
    "   données depuis un fichier CSV et l'affichage dans un graph de points. \n",
    "   Trois classes d’iris étaient identifiées par une couleur différente. \n",
    "   Vous avez également pu retrouver la famille d’une nouvelle iris \n",
    "   grâce à la largeur et la hauteur de ses pétales et à l’algorithme \n",
    "   des k plus proches voisins.\n",
    "</p>\n",
    "<ol>\n",
    "   <li>En reprenant l’affichage des points du fichier de base, indiquer \n",
    "      une valeur maximale pour k. <input name=\"Q1\" style=\"width:60\" type=\"number\"/>\n",
    "   </li>\n",
    "</ol>\n",
    "</article>"
   ]
  },
  {
   "cell_type": "markdown",
   "metadata": {},
   "source": [
    "<article>\n",
    "               <p>Nous allons montrer la classe de chaque point dans la totalité du \n",
    "                  graph et ce, en fonction du paramètre k.<br>Sur le graph suivant, \n",
    "                  nous avons placé les deux points de coordonnées minimale et maximale :\n",
    "                  <ol start=\"2\">\n",
    "                     <li>Retrouver puis indiquer les coordonnées du point max n(<input name=\"Q2\" style=\"width:60\" />)\n",
    "                     </li>\n",
    "                  </ol>\n",
    "               </p>\n",
    "               <img src=\"graph.jpg\" alt=\"graph\" />\n",
    "         </article>"
   ]
  },
  {
   "cell_type": "markdown",
   "metadata": {},
   "source": [
    "<p>On donne l’algorithme suivant :<br><br>\n",
    "               Début : <br>\n",
    "               <span>&nbsp;longMax <-- n0</span><br>\n",
    "               <span>&nbsp;largMax <-- n1</span><br>\n",
    "               <span>&nbsp;k <-- 1</span><br>\n",
    "               <span>&nbsp;Data <-- Charger les données du fichier csv</span><br>\t\n",
    "            \t<span>&nbsp;Pour tous les points du graph faire :</span><br>\n",
    "            \t<span>&nbsp;&nbsp;Classifier le point avec KNN</span><br>\n",
    "            \t<span>&nbsp;&nbsp;Si le résultat de la classification est « setosa » faire :</span><br>\n",
    "            \t<span>&nbsp;&nbsp;&nbsp;Afficher le point de couleur '#ABD687'</span><br>\n",
    "            \t<span>&nbsp;&nbsp;Sinon Si le résultat de la classification est « virginica » faire :</span><br>\n",
    "            \t<span>&nbsp;&nbsp;&nbsp;Afficher le point de couleur '#D54728'</span><br>\n",
    "            \t<span>&nbsp;&nbsp;Sinon Si le résultat de la classification est « versicolor » faire :</span><br>\n",
    "            \t<span>&nbsp;&nbsp;&nbsp;Afficher le point de couleur '#5AADC8'</span><br>\n",
    "            \t<span>&nbsp;&nbsp;Sinon :</span><br>\n",
    "            \t<span>&nbsp;&nbsp;&nbsp;Afficher le point de couleur noire</span><br>\n",
    "            \t<span>&nbsp;Afficher les points donnés dans Data</span><br>\t\n",
    "            \t<span>&nbsp;Montrer l’image</span><br>\t\n",
    "            Fin\n",
    "            </p>"
   ]
  },
  {
   "cell_type": "markdown",
   "metadata": {},
   "source": [
    "<ol start=\"3\">\n",
    "   <li>Implémenter cet algorithme dans un programme Python et \n",
    "      sauvegarder l’image dans votre répertoire de travail (k1.png).\n",
    "   </li>\n",
    "</ol>"
   ]
  },
  {
   "cell_type": "code",
   "execution_count": null,
   "metadata": {},
   "outputs": [],
   "source": [
    "table = charger_data()\n",
    "\n",
    "# A compléter\n",
    "\n",
    "\n",
    "afficher(table)"
   ]
  },
  {
   "cell_type": "markdown",
   "metadata": {},
   "source": [
    "<ol start=\"4\">\n",
    "   <li>Refaire ce travail pour K = 2, K = 3, K = 4 et K= 5.</li>\n",
    "   <li>Comparer les frontières de décision des différentes images et \n",
    "      faites un choix du paramètre k = <input name=\"Q5\" type=\"number\" style=\"width:40\"/>.\n",
    "   </li>\n",
    "</ol>"
   ]
  }
 ],
 "metadata": {
  "kernelspec": {
   "display_name": "Python 3",
   "language": "python",
   "name": "python3"
  },
  "language_info": {
   "codemirror_mode": {
    "name": "ipython",
    "version": 3
   },
   "file_extension": ".py",
   "mimetype": "text/x-python",
   "name": "python",
   "nbconvert_exporter": "python",
   "pygments_lexer": "ipython3",
   "version": "3.7.3"
  }
 },
 "nbformat": 4,
 "nbformat_minor": 2
}
