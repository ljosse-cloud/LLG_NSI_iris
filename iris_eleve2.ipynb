{
 "cells": [
  {
   "cell_type": "markdown",
   "metadata": {},
   "source": [
    "<table style=\"border:1px solid black\">\n",
    "    <tbody>\n",
    "    <tr>\n",
    "    <td style=\"text-align: center; vertical-align: middle; border:1px solid black;\"><h1>TP</h1></td>\n",
    "       <td><h2>4 h</h2></td>\n",
    "    <td style=\"text-align: center; vertical-align: middle; border:1px solid black;\"><h2>Représentation des données <br>\n",
    "       Langages et programmation <br> Algorithmique </h2></td>\n",
    "    <th rowspan=\"2\" style=\"text-align: center; vertical-align: middle; border:1px solid black; background-color:white;\"><img alt=\"logoLLG\" src=\"images/logoLLG.png\"></th>\n",
    "     </tr>\n",
    "     <tr>\n",
    "    <th colspan=\"2\" style=\"text-align: center; vertical-align: middle; border:1px solid black; background-color:white;\"><img alt=\"logoNSI\" src=\"images/logoNSI.png\"></th>\n",
    "    <td style=\"text-align: center; vertical-align: middle; border:1px solid black;\"><h2>Implémentation de l'algorithme des K-plus proches voisins\n",
    "       </h2></td>\n",
    "    </tr>\n",
    "    </tbody>\n",
    "</table>\n"
   ]
  },
  {
   "attachments": {},
   "cell_type": "markdown",
   "metadata": {},
   "source": [
    "<h1>Introduction</h1>\n",
    "         <article>\n",
    "            <p>Nous allons utiliser un jeu de données sur les \"iris\". En 1936, \n",
    "               Edgar Shannon Anderson, botaniste américain (1897 - 1969) a collecté \n",
    "               des données  afin de quantifier les variations de morphologie des \n",
    "               fleurs d'iris de trois espèces : \"iris setosa\", \"iris virginica\" \n",
    "               et \"iris versicolor\"</p>\n",
    "            <p class=\"centre\"><img src=\"images/iris.png\" alt=\"les 3 Iris\" /></p>\n",
    "         </article>"
   ]
  },
  {
   "cell_type": "markdown",
   "metadata": {},
   "source": [
    "<article style=\"display : flex;justify-content : space-evenly;align-items : center;\">\n",
    "            <div>Ce jeu de données est devenu un cas typique pour de nombreuses \n",
    "               techniques de classification automatique en apprentissage automatique \n",
    "               (machine learning). <br>Pour chaque iris étudié, Anderson a mesuré :\n",
    "            <ul>\n",
    "               <li>la largeur des pétales,</li>\n",
    "               <li>la longueur des pétales,</li>\n",
    "               <li>la largeur des sépales,</li>\n",
    "               <li>la longueur des sépales.</li>\n",
    "            </ul>\n",
    "            Pour chaque iris mesuré, il en a aussi noté la variété : \n",
    "            \"setosa\", \"virginica\" ou \"versicolor\".</div>\n",
    "            <img src=\"images/prince.png\" alt=\"description Iris\" />\n",
    "         </article>"
   ]
  },
  {
   "cell_type": "markdown",
   "metadata": {},
   "source": [
    "<article>\n",
    "    <p>Vous trouverez 150 de ces mesures dans un <a href=\"fichiers/iris.csv\">\n",
    "        fichier CSV</a> que nous avons limité aux pétales (en mm) et que \n",
    "        vous pouvez consulter sous Excel ou Calc.<br>Afin de simplifier \n",
    "        le traitement des données, on a remplacé chaque variété par un \n",
    "        chiffre : <span class=\"bleu\">0 pour \"iris setosa\", 1 pour \"iris \n",
    "        virginica\" et 2 pour \"iris versicolor\".</span><br><br>\n",
    "        Le <b>format CSV</b> est très courant sur internet. Voici ce que \n",
    "        nous en dit Wikipédia : <br>\n",
    "        <i>Comma-separated values, connu sous le sigle CSV, est un format \n",
    "          informatique ouvert représentant des données séparées par des virgules.<br>\n",
    "          Un fichier CSV est un fichier texte, par opposition aux formats \n",
    "          dits « binaires ». Chaque ligne du texte correspond à une ligne \n",
    "          d'un tableau de données et les virgules correspondent aux \n",
    "          séparations entre les colonnes. Les portions de texte séparées \n",
    "          par une virgule correspondent ainsi aux contenus des cellules \n",
    "          du tableau. </i>\n",
    "    </p>\n",
    "    <p>L'interprétation sous Excel du fichier CSV nous donne les résultats\n",
    "       suivants :</p>\n",
    "    <p><img src=\"images/excel.png\" alt=\"Classement des iris\" />\n",
    "    </p>\n",
    "    <h3>L'objectif de ce TP est de réaliser un programme capable d'identifier \n",
    "       la catégorie d'un iris, non encore répertorié, en fonction de la \n",
    "       longueur et de la largeur d'un de ses pétales.</h3>\n",
    "</article>"
   ]
  },
  {
   "cell_type": "code",
   "execution_count": null,
   "metadata": {},
   "outputs": [],
   "source": [
    "import matplotlib.pyplot as plt\n",
    "from math import sqrt\n",
    "\n",
    "global my_colors\n",
    "my_colors=['g','r','b']"
   ]
  },
  {
   "cell_type": "markdown",
   "metadata": {},
   "source": [
    "<h1>1er partie : affichage des points (1 h)</h1>\n",
    "<p>Nous allons écrire une fonction <b>charger_data()</b> qui \n",
    "   va importer les données issues du fichier csv et retourner une \n",
    "   liste de tuples de la forme (x,y,lab). <br>\n",
    "   Les paramètres LongueurPetale , LargeurPetale et Variete sont \n",
    "   respectivement attribués aux variables x, y et lab.<br></p>  \n",
    "<ol>\n",
    "   <li>Réaliser la fonction \"charger_data()\". Exécuter la \n",
    "      procédure pour la tester.\n",
    "   </li>\n",
    "</ol>"
   ]
  },
  {
   "cell_type": "code",
   "execution_count": null,
   "metadata": {},
   "outputs": [],
   "source": [
    "def charger_data():\n",
    "    \n",
    "    # A compléter\n",
    "    \n",
    "    return data"
   ]
  },
  {
   "cell_type": "code",
   "execution_count": null,
   "metadata": {},
   "outputs": [],
   "source": [
    "'''Code pour tester la fonction'''\n",
    "table = charger_data()\n",
    "print(table)"
   ]
  },
  {
   "cell_type": "markdown",
   "metadata": {},
   "source": [
    "<p>Nous utilisons ensuite la bibliothèque matplotlib.pyplot qui permet \n",
    "de tracer des graphiques très facilement : \n",
    "<ul>\n",
    "  <li>plt.scatter(x,y) permet de tracer des points d’abscisse x \n",
    "     et d’ordonnée y donc nous aurons en abscisse la longueur du \n",
    "     pétale et en ordonnée la largeur du pétale.</li>\n",
    "  <li>en ajoutant l’attribut color=’g’, on choisit la couleur \n",
    "     des points en vert,</li>\n",
    "  <li>les méthodes title, xlabel et ylabel permettent respectivement \n",
    "     de donner un titre au graphe et les intitulés des axes x et y,</li>\n",
    "  <li>la méthode text() permet d'écrire dans le graph : \n",
    "     <i>plt.text(x_pos, y_pos, \"texte à écrire\", fontsize=6)</i> \n",
    "     ou encore avec l'affichage d'une variable x : \n",
    "     <i>plt.text(x_pos, y_pos, f\"var : {x}\", fontsize=8)</i></li>\n",
    "  <li>la méthode show() permet d’afficher le graphe.</li>\n",
    "</ul>\n",
    "La variable data[i][2] de la liste data permet de connaître la \n",
    "variété de l’iris en fonction de sa valeur 0, 1 ou 2.</p>\n",
    "<ol start=\"2\">\n",
    "<li>On souhaite afficher les points des trois variétés au moyen de \n",
    "  trois couleurs vert, rouge et bleu associés à la liste \n",
    "  <i>my_colors=['g','r','b']</i>. Réaliser la méthode \"<b>afficher(data)</b>.\n",
    "</li></ol>"
   ]
  },
  {
   "cell_type": "code",
   "execution_count": null,
   "metadata": {},
   "outputs": [],
   "source": [
    "def afficher(data): \n",
    "    plt.title(\"Classification des trois variétés d'iris\")\n",
    "    plt.xlabel(\"Longueur de la pétale (en mm)\")\n",
    "    plt.ylabel(\"Largeur de la pétale (en mm)\")\n",
    "    plt.grid(which = \"both\", linestyle = \"--\")\n",
    "       \n",
    "    # A compléter\n",
    "    \n"
   ]
  },
  {
   "cell_type": "code",
   "execution_count": null,
   "metadata": {},
   "outputs": [],
   "source": [
    "'''Code pour tester la méthode'''\n",
    "afficher(table)"
   ]
  },
  {
   "cell_type": "markdown",
   "metadata": {},
   "source": [
    "<ol start=\"3\">\n",
    "<li>Réaliser une méthode \"<b>afficher_point(pt,lab)</b>\" qui permet \n",
    "      de visualiser sur le graph, un nouveau point de coordonnées \n",
    "      (x,y) de la couleur de la variété. Les coordonnées devront \n",
    "      apparaître sous le point. La variété de l'iris sera \n",
    "      affichée en bas du graph. Faire le test avec un point (48,17).</li>\n",
    "</ol>"
   ]
  },
  {
   "cell_type": "code",
   "execution_count": null,
   "metadata": {},
   "outputs": [],
   "source": [
    "def afficher_point(pt,lab):\n",
    "        \n",
    "    # A compléter\n",
    "    \n"
   ]
  },
  {
   "cell_type": "code",
   "execution_count": null,
   "metadata": {},
   "outputs": [],
   "source": [
    "'''Code pour tester la méthode'''\n",
    "afficher(table)\n",
    "point=(55,8)\n",
    "afficher_point(point,1)"
   ]
  },
  {
   "cell_type": "markdown",
   "metadata": {},
   "source": [
    "<h1>2ième partie : k plus proches voisins (1 h)</h1>\n",
    "<p>Nous allons implanter le programme qui permet de connaître les k \n",
    "   plus proches voisins d'un point donné puis d'en déduire la variété \n",
    "   de l'iris.</p>\n",
    "<ol start=\"4\">\n",
    "   <li>Écrire la fonction <b>distance(a, b)</b> qui prend comme arguments \n",
    "      deux tuples de coordonnées et qui renvoie la distance.</li>\n",
    "   <li>Écrire la fonction <b>listdist(data, o)</b> qui prend comme \n",
    "      arguments la liste de tuples de coordonnées et un tuple et \n",
    "      qui renvoie une liste de distances catégorisée (liste de [d, lab]).</li>\n",
    "</ol>"
   ]
  },
  {
   "cell_type": "code",
   "execution_count": null,
   "metadata": {},
   "outputs": [],
   "source": [
    "def distance(a, b):\n",
    "        \n",
    "    # A compléter\n",
    "    \n",
    "return d"
   ]
  },
  {
   "cell_type": "code",
   "execution_count": null,
   "metadata": {},
   "outputs": [],
   "source": [
    "def listdist(data, o):\n",
    "       \n",
    "    # A compléter\n",
    "    \n",
    "return L_dist"
   ]
  },
  {
   "cell_type": "code",
   "execution_count": null,
   "metadata": {},
   "outputs": [],
   "source": [
    "'''Code pour tester les deux fonctions précédentes'''\n",
    "point=(48,17)\n",
    "ld=listdist(table,point)\n",
    "print(ld)"
   ]
  },
  {
   "cell_type": "markdown",
   "metadata": {},
   "source": [
    "<ol start=\"6\">\n",
    "   <li>Écrire la fonction <b>kppv(ld, k, o)</b> qui prend comme arguments \n",
    "      la liste de distances catégorisée, un tuple de coordonnées et un entier k \n",
    "      et qui renvoie une liste des k plus proches voisins.</li>\n",
    "</ol>"
   ]
  },
  {
   "cell_type": "code",
   "execution_count": null,
   "metadata": {},
   "outputs": [],
   "source": [
    "def kppv(ld, k, o):\n",
    "    \n",
    "    # A compléter\n",
    "    \n",
    "\n",
    "    return knn"
   ]
  },
  {
   "cell_type": "code",
   "execution_count": null,
   "metadata": {},
   "outputs": [],
   "source": [
    "'''Code pour tester la fonction'''\n",
    "point=(48,17)\n",
    "ld=listdist(table,point)\n",
    "k=3\n",
    "lk=kppv(ld,k,point)\n",
    "print(lk)"
   ]
  },
  {
   "cell_type": "markdown",
   "metadata": {},
   "source": [
    "<ol start=\"7\">\n",
    "    <li>Écrire la fonction <b>prediction(lk)</b> qui prend comme arguments \n",
    "      la liste de distances catégorisée et qui renvoie la variété \n",
    "      d'iris majoritaire.</li>\n",
    "</ol>"
   ]
  },
  {
   "cell_type": "code",
   "execution_count": null,
   "metadata": {},
   "outputs": [],
   "source": [
    "def prediction(lk):\n",
    "    \n",
    "    # A compléter\n",
    "    \n",
    "\n"
   ]
  },
  {
   "cell_type": "code",
   "execution_count": null,
   "metadata": {},
   "outputs": [],
   "source": [
    "'''Programme principal'''\n",
    "table = charger_data()\n",
    "afficher(table)\n",
    "point=(48,17)\n",
    "ld=listdist(table,point)\n",
    "k=3\n",
    "lk=kppv(ld,k,point)\n",
    "ck=prediction(lk)\n",
    "afficher_point(point,ck)\n",
    "\n",
    "plt.show()"
   ]
  }
 ],
 "metadata": {
  "kernelspec": {
   "display_name": "Python 3",
   "language": "python",
   "name": "python3"
  },
  "language_info": {
   "codemirror_mode": {
    "name": "ipython",
    "version": 3
   },
   "file_extension": ".py",
   "mimetype": "text/x-python",
   "name": "python",
   "nbconvert_exporter": "python",
   "pygments_lexer": "ipython3",
   "version": "3.6.8"
  }
 },
 "nbformat": 4,
 "nbformat_minor": 2
}
